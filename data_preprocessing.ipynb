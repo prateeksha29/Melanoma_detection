{
 "cells": [
  {
   "cell_type": "code",
   "execution_count": 7,
   "metadata": {
    "collapsed": false
   },
   "outputs": [],
   "source": [
    "import os\n",
    "import keras\n",
    "import numpy as np\n",
    "import pandas as pd\n",
    "from matplotlib import pyplot\n",
    "from scipy.misc import toimage\n",
    "from random import shuffle\n",
    "import cv2\n",
    "from keras.preprocessing import image\n",
    "from keras.preprocessing.image import ImageDataGenerator #for data augmentation\n",
    "from sklearn.model_selection import train_test_split\n",
    "from keras.preprocessing.image import img_to_array\n",
    "from keras.optimizers import Adam\n",
    "from keras.models import Sequential\n",
    "from keras.layers import Dense, Dropout, Flatten, Activation\n",
    "from keras.layers import Conv2D, MaxPooling2D\n",
    "from keras import backend as k\n",
    "from keras.layers.normalization import BatchNormalization\n",
    "from keras.callbacks import ModelCheckpoint, Callback\n",
    "from keras.applications.vgg16 import preprocess_input"
   ]
  },
  {
   "cell_type": "code",
   "execution_count": 3,
   "metadata": {
    "collapsed": false
   },
   "outputs": [],
   "source": [
    "df_labels = pd.read_csv('/media/prateeksha/Unit 3/SKIN-DATA/ISIC-2017_Training_Part3_GroundTruth.csv')"
   ]
  },
  {
   "cell_type": "code",
   "execution_count": 4,
   "metadata": {
    "collapsed": false
   },
   "outputs": [
    {
     "data": {
      "text/html": [
       "<div>\n",
       "<style scoped>\n",
       "    .dataframe tbody tr th:only-of-type {\n",
       "        vertical-align: middle;\n",
       "    }\n",
       "\n",
       "    .dataframe tbody tr th {\n",
       "        vertical-align: top;\n",
       "    }\n",
       "\n",
       "    .dataframe thead th {\n",
       "        text-align: right;\n",
       "    }\n",
       "</style>\n",
       "<table border=\"1\" class=\"dataframe\">\n",
       "  <thead>\n",
       "    <tr style=\"text-align: right;\">\n",
       "      <th></th>\n",
       "      <th>image_id</th>\n",
       "      <th>melanoma</th>\n",
       "      <th>seborrheic_keratosis</th>\n",
       "    </tr>\n",
       "  </thead>\n",
       "  <tbody>\n",
       "    <tr>\n",
       "      <th>0</th>\n",
       "      <td>ISIC_0000000</td>\n",
       "      <td>0.0</td>\n",
       "      <td>0.0</td>\n",
       "    </tr>\n",
       "    <tr>\n",
       "      <th>1</th>\n",
       "      <td>ISIC_0000001</td>\n",
       "      <td>0.0</td>\n",
       "      <td>0.0</td>\n",
       "    </tr>\n",
       "    <tr>\n",
       "      <th>2</th>\n",
       "      <td>ISIC_0000002</td>\n",
       "      <td>1.0</td>\n",
       "      <td>0.0</td>\n",
       "    </tr>\n",
       "    <tr>\n",
       "      <th>3</th>\n",
       "      <td>ISIC_0000003</td>\n",
       "      <td>0.0</td>\n",
       "      <td>0.0</td>\n",
       "    </tr>\n",
       "    <tr>\n",
       "      <th>4</th>\n",
       "      <td>ISIC_0000004</td>\n",
       "      <td>1.0</td>\n",
       "      <td>0.0</td>\n",
       "    </tr>\n",
       "  </tbody>\n",
       "</table>\n",
       "</div>"
      ],
      "text/plain": [
       "       image_id  melanoma  seborrheic_keratosis\n",
       "0  ISIC_0000000       0.0                   0.0\n",
       "1  ISIC_0000001       0.0                   0.0\n",
       "2  ISIC_0000002       1.0                   0.0\n",
       "3  ISIC_0000003       0.0                   0.0\n",
       "4  ISIC_0000004       1.0                   0.0"
      ]
     },
     "execution_count": 4,
     "metadata": {},
     "output_type": "execute_result"
    }
   ],
   "source": [
    "df_labels.head()"
   ]
  },
  {
   "cell_type": "code",
   "execution_count": 5,
   "metadata": {
    "collapsed": false
   },
   "outputs": [
    {
     "data": {
      "text/plain": [
       "2000"
      ]
     },
     "execution_count": 5,
     "metadata": {},
     "output_type": "execute_result"
    }
   ],
   "source": [
    "train_path = '/media/prateeksha/Unit 3/SKIN-DATA/ISIC-2017_Training_Data part3'\n",
    "labels = os.listdir(train_path)\n",
    "len(labels)"
   ]
  },
  {
   "cell_type": "code",
   "execution_count": 8,
   "metadata": {
    "collapsed": false
   },
   "outputs": [
    {
     "name": "stdout",
     "output_type": "stream",
     "text": [
      "/media/prateeksha/Unit 3/SKIN-DATA/ISIC-2017_Training_Data part3/ISIC_0000000.jpg\n",
      "/media/prateeksha/Unit 3/SKIN-DATA/ISIC-2017_Training_Data part3/ISIC_0000001.jpg\n",
      "/media/prateeksha/Unit 3/SKIN-DATA/ISIC-2017_Training_Data part3/ISIC_0000002.jpg\n",
      "/media/prateeksha/Unit 3/SKIN-DATA/ISIC-2017_Training_Data part3/ISIC_0000003.jpg\n",
      "/media/prateeksha/Unit 3/SKIN-DATA/ISIC-2017_Training_Data part3/ISIC_0000004.jpg\n",
      "/media/prateeksha/Unit 3/SKIN-DATA/ISIC-2017_Training_Data part3/ISIC_0000006.jpg\n",
      "/media/prateeksha/Unit 3/SKIN-DATA/ISIC-2017_Training_Data part3/ISIC_0000007.jpg\n",
      "/media/prateeksha/Unit 3/SKIN-DATA/ISIC-2017_Training_Data part3/ISIC_0000009.jpg\n",
      "/media/prateeksha/Unit 3/SKIN-DATA/ISIC-2017_Training_Data part3/ISIC_0000010.jpg\n"
     ]
    },
    {
     "data": {
      "image/png": "[encoded data removed]",
      "text/plain": [
       "<matplotlib.figure.Figure at 0x7f5fb72a77d0>"
      ]
     },
     "metadata": {},
     "output_type": "display_data"
    }
   ],
   "source": [
    "for i in range(0, 9):\n",
    "    label = labels[i]\n",
    "    cur_path = train_path + \"/\" + label\n",
    "    print cur_path\n",
    "    img = image.load_img(cur_path, target_size=(64,64))\n",
    "    pyplot.subplot(330 + 1 + i)\n",
    "    pyplot.imshow(toimage(img))\n",
    "# show the plot\n",
    "pyplot.show()\n"
   ]
  },
  {
   "cell_type": "code",
   "execution_count": 9,
   "metadata": {
    "collapsed": false
   },
   "outputs": [
    {
     "name": "stdout",
     "output_type": "stream",
     "text": [
      "Processed 0 of 250\n",
      "Processed 250 of 250\n",
      "Processed 500 of 250\n",
      "Processed 750 of 250\n",
      "Processed 1000 of 250\n",
      "Processed 1250 of 250\n",
      "Processed 1500 of 250\n",
      "Processed 1750 of 250\n",
      "(64, 64, 3)\n"
     ]
    }
   ],
   "source": [
    "X_train = []\n",
    "for i,img in enumerate(labels):\n",
    "    path = os.path.join(train_path, img)\n",
    "    img = image.load_img(path, target_size = (64,64))\n",
    "    img = img_to_array(img)\n",
    "    img=np.array(img) \n",
    "    img=preprocess_input(img)\n",
    "    X_train.append(img)\n",
    "    x_train = np.array(X_train)\n",
    "    if i%250 == 0: print('Processed {} of {}'.format(i, 250))\n",
    "    \n",
    "print(x_train[0].shape)"
   ]
  },
  {
   "cell_type": "code",
   "execution_count": 11,
   "metadata": {
    "collapsed": false
   },
   "outputs": [
    {
     "name": "stderr",
     "output_type": "stream",
     "text": [
      "/home/prateeksha/anaconda2/lib/python2.7/site-packages/ipykernel/__main__.py:1: FutureWarning: get_value is deprecated and will be removed in a future release. Please use .at[] or .iat[] accessors instead\n",
      "  if __name__ == '__main__':\n"
     ]
    },
    {
     "data": {
      "text/plain": [
       "1.0"
      ]
     },
     "execution_count": 11,
     "metadata": {},
     "output_type": "execute_result"
    }
   ],
   "source": [
    "df_labels.get_value(2, 'melanoma')"
   ]
  },
  {
   "cell_type": "code",
   "execution_count": 12,
   "metadata": {
    "collapsed": false
   },
   "outputs": [
    {
     "name": "stderr",
     "output_type": "stream",
     "text": [
      "/home/prateeksha/anaconda2/lib/python2.7/site-packages/ipykernel/__main__.py:4: FutureWarning: get_value is deprecated and will be removed in a future release. Please use .at[] or .iat[] accessors instead\n",
      "/home/prateeksha/anaconda2/lib/python2.7/site-packages/ipykernel/__main__.py:5: FutureWarning: get_value is deprecated and will be removed in a future release. Please use .at[] or .iat[] accessors instead\n",
      "/home/prateeksha/anaconda2/lib/python2.7/site-packages/ipykernel/__main__.py:6: FutureWarning: get_value is deprecated and will be removed in a future release. Please use .at[] or .iat[] accessors instead\n"
     ]
    },
    {
     "data": {
      "text/plain": [
       "2000"
      ]
     },
     "execution_count": 12,
     "metadata": {},
     "output_type": "execute_result"
    }
   ],
   "source": [
    "y_train = []\n",
    "j = 0\n",
    "for i in enumerate (df_labels['image_id']):\n",
    "    if df_labels.get_value(j,'melanoma') == df_labels.get_value(j, 'seborrheic_keratosis'): num = 0\n",
    "    if df_labels.get_value(j, 'melanoma') == 1: num = 1\n",
    "    if df_labels.get_value(j, 'seborrheic_keratosis')== 1: num=2\n",
    "    y_train.append(num)\n",
    "    j = j+1\n",
    "len(y_train)"
   ]
  },
  {
   "cell_type": "code",
   "execution_count": 13,
   "metadata": {
    "collapsed": false
   },
   "outputs": [
    {
     "data": {
      "text/plain": [
       "(2000,)"
      ]
     },
     "execution_count": 13,
     "metadata": {},
     "output_type": "execute_result"
    }
   ],
   "source": [
    "y_train = np.array(y_train)\n",
    "y_train.shape"
   ]
  },
  {
   "cell_type": "code",
   "execution_count": 14,
   "metadata": {
    "collapsed": true
   },
   "outputs": [],
   "source": [
    "(trainX, testX, trainY, testY) = train_test_split(x_train, y_train, test_size = 0.25, random_state = 42)"
   ]
  },
  {
   "cell_type": "code",
   "execution_count": 15,
   "metadata": {
    "collapsed": false
   },
   "outputs": [
    {
     "data": {
      "text/plain": [
       "(1500,)"
      ]
     },
     "execution_count": 15,
     "metadata": {},
     "output_type": "execute_result"
    }
   ],
   "source": [
    "\n",
    "trainY.shape"
   ]
  },
  {
   "cell_type": "code",
   "execution_count": 16,
   "metadata": {
    "collapsed": true
   },
   "outputs": [],
   "source": [
    "aug = ImageDataGenerator(rotation_range=30, width_shift_range=0.1, height_shift_range = 0.1,shear_range = 0.2, zoom_range=0.2, horizontal_flip=True, fill_mode=\"nearest\")"
   ]
  },
  {
   "cell_type": "code",
   "execution_count": 17,
   "metadata": {
    "collapsed": true
   },
   "outputs": [],
   "source": [
    "aug.fit(trainX)"
   ]
  },
  {
   "cell_type": "code",
   "execution_count": 18,
   "metadata": {
    "collapsed": false
   },
   "outputs": [],
   "source": [
    "img_rows, img_cols = 64, 64\n",
    "if k.image_data_format() == 'channels_first':\n",
    "    trainX = trainX.reshape(trainX.shape[0], 3, img_rows, img_cols)\n",
    "    testX = testX.reshape(testX.shape[0], 3, img_rows, img_cols)\n",
    "    input_shape = (3, img_rows, img_cols)\n",
    "else:\n",
    "    trainX = trainX.reshape(trainX.shape[0], img_rows, img_cols, 3)\n",
    "    testX = testX.reshape(testX.shape[0], img_rows, img_cols, 3)\n",
    "    input_shape = (img_rows, img_cols, 3)"
   ]
  },
  {
   "cell_type": "code",
   "execution_count": 19,
   "metadata": {
    "collapsed": false
   },
   "outputs": [
    {
     "data": {
      "text/plain": [
       "(1500, 64, 64, 3)"
      ]
     },
     "execution_count": 19,
     "metadata": {},
     "output_type": "execute_result"
    }
   ],
   "source": [
    "trainX.shape"
   ]
  },
  {
   "cell_type": "code",
   "execution_count": 20,
   "metadata": {
    "collapsed": true
   },
   "outputs": [],
   "source": [
    "trainX = keras.utils.normalize(trainX, axis=-1, order=2)"
   ]
  },
  {
   "cell_type": "code",
   "execution_count": 21,
   "metadata": {
    "collapsed": false
   },
   "outputs": [],
   "source": [
    "testX = keras.utils.normalize(testX, axis=-1, order=2)"
   ]
  },
  {
   "cell_type": "code",
   "execution_count": 22,
   "metadata": {
    "collapsed": false
   },
   "outputs": [],
   "source": [
    "trainY = keras.utils.to_categorical(trainY, num_classes = 3)\n",
    "testY = keras.utils.to_categorical(testY, num_classes =3)"
   ]
  },
  {
   "cell_type": "code",
   "execution_count": 23,
   "metadata": {
    "collapsed": false
   },
   "outputs": [
    {
     "name": "stderr",
     "output_type": "stream",
     "text": [
      "/home/prateeksha/anaconda2/lib/python2.7/site-packages/ipykernel/__main__.py:12: UserWarning: Update your `Dense` call to the Keras 2 API: `Dense(512, kernel_initializer=\"uniform\")`\n",
      "/home/prateeksha/anaconda2/lib/python2.7/site-packages/ipykernel/__main__.py:16: UserWarning: Update your `Dense` call to the Keras 2 API: `Dense(128, kernel_initializer=\"uniform\")`\n"
     ]
    }
   ],
   "source": [
    "model = Sequential()\n",
    "model.add(Conv2D(32, kernel_size=(3, 3),\n",
    "                 activation='relu',\n",
    "                 input_shape=input_shape))\n",
    "model.add(Conv2D(32, (3, 3), activation='relu'))\n",
    "model.add(MaxPooling2D(pool_size = (2,2)))\n",
    "model.add(Conv2D(64, (3, 3), activation='relu'))\n",
    "model.add(MaxPooling2D(pool_size=(2, 2)))\n",
    "model.add(Conv2D(128, (3,3), activation = 'relu'))\n",
    "model.add(MaxPooling2D(pool_size =(2,2)))\n",
    "model.add(Flatten())\n",
    "model.add(Dense(512, init ='uniform'))\n",
    "model.add(BatchNormalization())\n",
    "model.add(Activation('relu'))\n",
    "model.add(Dropout(0.25))\n",
    "model.add(Dense(128, init = 'uniform'))\n",
    "model.add(BatchNormalization())\n",
    "model.add(Activation('relu'))\n",
    "model.add(Dropout(0.5))\n",
    "model.add(Dense(3, activation='softmax'))\n"
   ]
  },
  {
   "cell_type": "code",
   "execution_count": 24,
   "metadata": {
    "collapsed": false
   },
   "outputs": [
    {
     "name": "stderr",
     "output_type": "stream",
     "text": [
      "/home/prateeksha/anaconda2/lib/python2.7/site-packages/ipykernel/__main__.py:14: UserWarning: Update your `Dense` call to the Keras 2 API: `Dense(512, kernel_initializer=\"uniform\")`\n",
      "/home/prateeksha/anaconda2/lib/python2.7/site-packages/ipykernel/__main__.py:18: UserWarning: Update your `Dense` call to the Keras 2 API: `Dense(128, kernel_initializer=\"uniform\")`\n"
     ]
    }
   ],
   "source": [
    "model = Sequential()\n",
    "model.add(Conv2D(32, kernel_size=(3, 3),\n",
    "                 activation='relu',\n",
    "                 input_shape= input_shape))\n",
    "\n",
    "model.add(Conv2D(32, (3, 3), activation='relu'))\n",
    "model.add(MaxPooling2D(pool_size=(2, 2)))\n",
    "\n",
    "model.add(Conv2D(64, (3, 3), activation='relu'))\n",
    "\n",
    "model.add(MaxPooling2D(pool_size=(2, 2)))\n",
    "model.add(Flatten())\n",
    "\n",
    "model.add(Dense(512, init ='uniform'))\n",
    "model.add(BatchNormalization())\n",
    "model.add(Activation('relu'))\n",
    "model.add(Dropout(0.25))\n",
    "model.add(Dense(128, init ='uniform'))\n",
    "model.add(BatchNormalization())\n",
    "model.add(Activation('relu'))\n",
    "model.add(Dropout(0.5))\n",
    "model.add(Dense( 3, activation = 'softmax')) # batchnorm shouldn't be applied at the last layer \n"
   ]
  },
  {
   "cell_type": "code",
   "execution_count": 25,
   "metadata": {
    "collapsed": false
   },
   "outputs": [],
   "source": [
    "model.compile(loss = 'categorical_crossentropy', optimizer = 'Adam', metrics =['accuracy'])"
   ]
  },
  {
   "cell_type": "code",
   "execution_count": 26,
   "metadata": {
    "collapsed": false
   },
   "outputs": [
    {
     "name": "stdout",
     "output_type": "stream",
     "text": [
      "Epoch 1/10\n",
      "46/46 [==============================] - 35s 752ms/step - loss: 1.3656 - acc: 0.4416 - val_loss: 1.0355 - val_acc: 0.6880\n",
      "Epoch 2/10\n",
      "46/46 [==============================] - 40s 868ms/step - loss: 1.0125 - acc: 0.6265 - val_loss: 0.9497 - val_acc: 0.7060\n",
      "Epoch 3/10\n",
      "46/46 [==============================] - 38s 816ms/step - loss: 1.0057 - acc: 0.6300 - val_loss: 1.0402 - val_acc: 0.6860\n",
      "Epoch 4/10\n",
      "46/46 [==============================] - 39s 853ms/step - loss: 0.9615 - acc: 0.6363 - val_loss: 0.9195 - val_acc: 0.6960\n",
      "Epoch 5/10\n",
      "46/46 [==============================] - 42s 908ms/step - loss: 0.9309 - acc: 0.6450 - val_loss: 0.8488 - val_acc: 0.6820\n",
      "Epoch 6/10\n",
      "46/46 [==============================] - 46s 998ms/step - loss: 0.9391 - acc: 0.6411 - val_loss: 0.7891 - val_acc: 0.7140\n",
      "Epoch 7/10\n",
      "46/46 [==============================] - 47s 1s/step - loss: 0.9133 - acc: 0.6591 - val_loss: 0.7946 - val_acc: 0.7080\n",
      "Epoch 8/10\n",
      "46/46 [==============================] - 54s 1s/step - loss: 0.9085 - acc: 0.6501 - val_loss: 0.8830 - val_acc: 0.7140\n",
      "Epoch 9/10\n",
      "46/46 [==============================] - 54s 1s/step - loss: 0.9185 - acc: 0.6572 - val_loss: 0.8311 - val_acc: 0.7160\n",
      "Epoch 10/10\n",
      "46/46 [==============================] - 51s 1s/step - loss: 0.8788 - acc: 0.6501 - val_loss: 0.7536 - val_acc: 0.7140\n"
     ]
    }
   ],
   "source": [
    "## Callback for loss logging per epoch\n",
    "class LossHistory(Callback):\n",
    "    def on_train_begin(self, logs={}):\n",
    "        self.losses = []\n",
    "        self.val_losses = []\n",
    "        \n",
    "    def on_epoch_end(self, batch, logs={}):\n",
    "        self.losses.append(logs.get('loss'))\n",
    "        self.val_losses.append(logs.get('val_loss'))\n",
    "\n",
    "#early_stopping = EarlyStopping(monitor='val_loss', patience=3, verbose=1, mode='auto')        \n",
    "        \n",
    "def run_skindata():\n",
    "    history = LossHistory()\n",
    "    model.fit_generator(aug.flow(trainX, trainY, batch_size = 32 ), validation_data = (testX, testY), steps_per_epoch = len(trainX)//32, callbacks= [history], epochs = 10, verbose =1)\n",
    "   \n",
    "   \n",
    "\n",
    "    #predictions = model.predict(test, verbose=0)\n",
    "    return  history\n",
    "history = run_skindata()"
   ]
  },
  {
   "cell_type": "code",
   "execution_count": 27,
   "metadata": {
    "collapsed": false
   },
   "outputs": [
    {
     "data": {
      "image/png": "[encoded data removed]",
      "text/plain": [
       "<matplotlib.figure.Figure at 0x7f5fb1a06750>"
      ]
     },
     "metadata": {},
     "output_type": "display_data"
    }
   ],
   "source": [
    "loss = history.losses\n",
    "val_loss = history.val_losses\n",
    "\n",
    "pyplot.xlabel('Epochs')\n",
    "pyplot.ylabel('Loss')\n",
    "pyplot.title('Loss Trend')\n",
    "pyplot.plot(loss, 'blue', label='Training Loss')\n",
    "pyplot.plot(val_loss, 'green', label='Validation Loss')\n",
    "pyplot.xticks(range(0,10)[0::2])\n",
    "pyplot.legend()\n",
    "pyplot.show()"
   ]
  },
  {
   "cell_type": "code",
   "execution_count": null,
   "metadata": {
    "collapsed": true
   },
   "outputs": [],
   "source": []
  }
 ],
 "metadata": {
  "anaconda-cloud": {},
  "kernelspec": {
   "display_name": "Python [conda root]",
   "language": "python",
   "name": "conda-root-py"
  },
  "language_info": {
   "codemirror_mode": {
    "name": "ipython",
    "version": 2
   },
   "file_extension": ".py",
   "mimetype": "text/x-python",
   "name": "python",
   "nbconvert_exporter": "python",
   "pygments_lexer": "ipython2",
   "version": "2.7.13"
  }
 },
 "nbformat": 4,
 "nbformat_minor": 2
}
